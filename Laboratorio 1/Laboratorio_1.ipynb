{
  "cells": [
    {
      "cell_type": "markdown",
      "metadata": {
        "id": "-CnSaU7yuHuo"
      },
      "source": [
        "# Laboratorio 1: Exploración y Visualización de Datos\n",
        "Fecha: 25 Marzo 2024\n",
        "\n",
        "Integrantes: Patricio Espinoza A. & Vicente Thiele M.\n"
      ]
    },
    {
      "cell_type": "markdown",
      "metadata": {
        "id": "N3o-gTDiuw5O"
      },
      "source": [
        "## Declaración de compromiso ético\n",
        "\n",
        "Nosotros/as **AGREGUEN SUS NOMBRES COMPLETOS**, declaramos que realizamos de manera grupal los pasos de la presente actividad. También declaramos no incurrir en copia, ni compartir nuestras respuestas con otras personas ni con otros grupos. Por lo que, ratificamos que las respuestas son de nuestra propia confección y reflejan nuestro propio conocimiento."
      ]
    },
    {
      "cell_type": "markdown",
      "metadata": {
        "id": "DAB7Kb-fuwH4"
      },
      "source": [
        "## Instrucciones\n",
        "\n",
        "1.  Trabajen en equipos de dos personas. Salvo excepciones, no se corregirá entregas con menos de dos integrantes.\n",
        "\n",
        "2.  Modifique este archivo `.ipynb` agregando sus respuestas donde corresponda. Puede ocupar Jupyter notebook en su computador o usar Google Colab como alternativa online.\n",
        "\n",
        "3.  Para cada pregunta **incluya el código fuente que utilizó para llegar a su respuesta. Respuestas sin código no recibirán puntaje.**.\n",
        "\n",
        "4.  El formato de entrega para esta actividad es un archivo **html**. **Genere un archivo HTML usando Jupyter** y súbalo a U-Cursos. Basta con que un/a integrante haga la entrega. Si ambos/as hacen una entrega en U-Cursos, se revisará cualquiera de éstas."
      ]
    },
    {
      "cell_type": "markdown",
      "metadata": {
        "id": "aOoASC9ywZ3D"
      },
      "source": [
        "## Laboratorio\n",
        "\n",
        "Ahora vamos a jugar con los datos!\n",
        "\n",
        "En este laboratorio trabajaremos con un dataset del tema favorito de todxs... el anime. El dataset fue obtenido de \"https://www.kaggle.com/datasets/azathoth42/myanimelist\" y consta de informacion sobre animes de la pagina MyAnimeList (MAL)\n",
        "\n",
        "Este set de datos consiste de dos archivos. \"anime.csv\" contiene 6 atributos: \"title\", \"type\", \"source\", \"episodes\", \"airing\" y \"studio\", que corresponden a informacion sobre el anime, y \"anime-stats.csv\" contiene 4 atributos: \"title\", \"score\", \"members\" (numero de usuarios que tienen el anime en su lista) y \"favorites\", que corresponden a estadisticas en MyAnimeList sobre la popularidad de animes.\n",
        "\n",
        "Para cargar los datos desde tu computador, usa:"
      ]
    },
    {
      "cell_type": "code",
      "execution_count": 1,
      "metadata": {
        "id": "xyQGRN44ws0n"
      },
      "outputs": [],
      "source": [
        "import pandas as pd\n",
        "import matplotlib.pyplot as plt"
      ]
    },
    {
      "cell_type": "code",
      "execution_count": 2,
      "metadata": {
        "id": "ltDQGTy2wnpL"
      },
      "outputs": [],
      "source": [
        "#los archivos deben estar en la carpeta del notebook\n",
        "df_anime = pd.read_csv('anime.csv', encoding=\"UTF-8\")\n",
        "df_stats = pd.read_csv('anime_stats.csv', encoding=\"UTF-8\")"
      ]
    },
    {
      "cell_type": "markdown",
      "metadata": {
        "id": "b8jdCwYhwyOV"
      },
      "source": [
        "También puedes cargarlos remotamente de un repositorio usando el link a los archivos:\n"
      ]
    },
    {
      "cell_type": "code",
      "execution_count": 4,
      "metadata": {
        "id": "2_8H7ZEJwx7O"
      },
      "outputs": [],
      "source": [
        "df_anime = pd.read_csv('https://raw.githubusercontent.com/bacchus00/cositas/main/anime.csv', encoding=\"UTF-8\")\n",
        "df_stats = pd.read_csv('https://raw.githubusercontent.com/bacchus00/cositas/main/anime-stats.csv', encoding=\"UTF-8\")"
      ]
    },
    {
      "cell_type": "markdown",
      "metadata": {
        "id": "uHNVPuI4xN1W"
      },
      "source": [
        "### Exploración básica\n"
      ]
    },
    {
      "cell_type": "markdown",
      "metadata": {
        "id": "5HVzVMbYxRhV"
      },
      "source": [
        "1.  ¿Cuáles son las dimensiones de ambos dataframes (filas, columnas)?\n"
      ]
    },
    {
      "cell_type": "code",
      "execution_count": 8,
      "metadata": {
        "id": "AoR9h9R8xLsY"
      },
      "outputs": [
        {
          "name": "stdout",
          "output_type": "stream",
          "text": [
            "El data de anime contiene 14478 filas y 6 columnas.\n",
            "El data de anime contiene 14478 filas y 4 columnas.\n"
          ]
        }
      ],
      "source": [
        "anime_rows, anime_columns = df_anime.shape[0], df_anime.shape[1]\n",
        "stats_rows, stats_columns = df_stats.shape[0], df_stats.shape[1]\n",
        "\n",
        "print(\"El data de anime contiene \" +str(anime_rows)+ \" filas y \" +str(anime_columns) +\" columnas.\")\n",
        "print(\"El data de anime contiene \" +str(stats_rows)+ \" filas y \" +str(stats_columns) +\" columnas.\")"
      ]
    },
    {
      "cell_type": "markdown",
      "metadata": {
        "id": "2u883gTnxSe1"
      },
      "source": [
        "2.  ¿Existen filas duplicadas en alguno de los dataframes?\n"
      ]
    },
    {
      "cell_type": "code",
      "execution_count": 25,
      "metadata": {
        "id": "oSCqVVHLxc7F"
      },
      "outputs": [
        {
          "name": "stdout",
          "output_type": "stream",
          "text": [
            "0 0\n"
          ]
        }
      ],
      "source": [
        "df1 = df_anime.duplicated()\n",
        "df2 = df_stats.duplicated()\n",
        "\n",
        "x = df1.sum()\n",
        "y = df2.sum()\n",
        "\n",
        "print(x, y)"
      ]
    },
    {
      "cell_type": "markdown",
      "metadata": {},
      "source": [
        "R: No, no existen filas duplicadas en ninguno de los datas."
      ]
    },
    {
      "cell_type": "markdown",
      "metadata": {
        "id": "txTGpQT7x77U"
      },
      "source": [
        "3.  ¿Hay filas con valores nulos en alguno de los dataframes?"
      ]
    },
    {
      "cell_type": "code",
      "execution_count": 30,
      "metadata": {
        "id": "-jq9z9Gcx_u-"
      },
      "outputs": [
        {
          "data": {
            "text/plain": [
              "title       False\n",
              "type        False\n",
              "source      False\n",
              "episodes    False\n",
              "airing      False\n",
              "studio       True\n",
              "dtype: bool"
            ]
          },
          "execution_count": 30,
          "metadata": {},
          "output_type": "execute_result"
        }
      ],
      "source": [
        "df_anime.isnull().any()"
      ]
    },
    {
      "cell_type": "code",
      "execution_count": 29,
      "metadata": {},
      "outputs": [
        {
          "data": {
            "text/plain": [
              "title        False\n",
              "score        False\n",
              "members      False\n",
              "favorites    False\n",
              "dtype: bool"
            ]
          },
          "execution_count": 29,
          "metadata": {},
          "output_type": "execute_result"
        }
      ],
      "source": [
        "df_stats.isnull().any()"
      ]
    },
    {
      "cell_type": "markdown",
      "metadata": {},
      "source": [
        "R: Si, hay filas con valores nulos en sus columnas en el data de anime, mientras que en el de stats no."
      ]
    },
    {
      "cell_type": "markdown",
      "metadata": {
        "id": "N8mB-040ynfR"
      },
      "source": [
        "### Análisis\n",
        "\n",
        "Ahora para hacer el análisis más sencillo juntaremos ambas tablas  usando como llave el nombre del anime (title)."
      ]
    },
    {
      "cell_type": "code",
      "execution_count": 9,
      "metadata": {
        "colab": {
          "base_uri": "https://localhost:8080/",
          "height": 206
        },
        "id": "UKw7UPFoyvkr",
        "outputId": "fa2c2a4b-e70a-4693-ea68-7a02356b3c6e"
      },
      "outputs": [
        {
          "data": {
            "text/html": [
              "<div>\n",
              "<style scoped>\n",
              "    .dataframe tbody tr th:only-of-type {\n",
              "        vertical-align: middle;\n",
              "    }\n",
              "\n",
              "    .dataframe tbody tr th {\n",
              "        vertical-align: top;\n",
              "    }\n",
              "\n",
              "    .dataframe thead th {\n",
              "        text-align: right;\n",
              "    }\n",
              "</style>\n",
              "<table border=\"1\" class=\"dataframe\">\n",
              "  <thead>\n",
              "    <tr style=\"text-align: right;\">\n",
              "      <th></th>\n",
              "      <th>title</th>\n",
              "      <th>type</th>\n",
              "      <th>source</th>\n",
              "      <th>episodes</th>\n",
              "      <th>airing</th>\n",
              "      <th>studio</th>\n",
              "      <th>score</th>\n",
              "      <th>members</th>\n",
              "      <th>favorites</th>\n",
              "    </tr>\n",
              "  </thead>\n",
              "  <tbody>\n",
              "    <tr>\n",
              "      <th>14323</th>\n",
              "      <td>Chirorin Mura Monogatari: Tomkurupii no Jishin...</td>\n",
              "      <td>OVA</td>\n",
              "      <td>Original</td>\n",
              "      <td>1</td>\n",
              "      <td>False</td>\n",
              "      <td>NaN</td>\n",
              "      <td>6.50</td>\n",
              "      <td>48</td>\n",
              "      <td>0</td>\n",
              "    </tr>\n",
              "    <tr>\n",
              "      <th>8647</th>\n",
              "      <td>Tsumamigui</td>\n",
              "      <td>OVA</td>\n",
              "      <td>Visual novel</td>\n",
              "      <td>2</td>\n",
              "      <td>False</td>\n",
              "      <td>NaN</td>\n",
              "      <td>6.57</td>\n",
              "      <td>3645</td>\n",
              "      <td>8</td>\n",
              "    </tr>\n",
              "    <tr>\n",
              "      <th>9195</th>\n",
              "      <td>Code Geass: Boukoku no Akito 1 - Yokuryuu wa M...</td>\n",
              "      <td>Movie</td>\n",
              "      <td>Original</td>\n",
              "      <td>1</td>\n",
              "      <td>False</td>\n",
              "      <td>Sunrise</td>\n",
              "      <td>7.56</td>\n",
              "      <td>114530</td>\n",
              "      <td>483</td>\n",
              "    </tr>\n",
              "    <tr>\n",
              "      <th>1246</th>\n",
              "      <td>Brilliant Better</td>\n",
              "      <td>Music</td>\n",
              "      <td>Original</td>\n",
              "      <td>1</td>\n",
              "      <td>False</td>\n",
              "      <td>NaN</td>\n",
              "      <td>5.51</td>\n",
              "      <td>321</td>\n",
              "      <td>0</td>\n",
              "    </tr>\n",
              "    <tr>\n",
              "      <th>10300</th>\n",
              "      <td>Zhong Hua Xiao Zi</td>\n",
              "      <td>TV</td>\n",
              "      <td>Unknown</td>\n",
              "      <td>26</td>\n",
              "      <td>False</td>\n",
              "      <td>NaN</td>\n",
              "      <td>6.49</td>\n",
              "      <td>279</td>\n",
              "      <td>1</td>\n",
              "    </tr>\n",
              "  </tbody>\n",
              "</table>\n",
              "</div>"
            ],
            "text/plain": [
              "                                                   title   type        source  \\\n",
              "14323  Chirorin Mura Monogatari: Tomkurupii no Jishin...    OVA      Original   \n",
              "8647                                          Tsumamigui    OVA  Visual novel   \n",
              "9195   Code Geass: Boukoku no Akito 1 - Yokuryuu wa M...  Movie      Original   \n",
              "1246                                    Brilliant Better  Music      Original   \n",
              "10300                                  Zhong Hua Xiao Zi     TV       Unknown   \n",
              "\n",
              "       episodes  airing   studio  score  members  favorites  \n",
              "14323         1   False      NaN   6.50       48          0  \n",
              "8647          2   False      NaN   6.57     3645          8  \n",
              "9195          1   False  Sunrise   7.56   114530        483  \n",
              "1246          1   False      NaN   5.51      321          0  \n",
              "10300        26   False      NaN   6.49      279          1  "
            ]
          },
          "execution_count": 9,
          "metadata": {},
          "output_type": "execute_result"
        }
      ],
      "source": [
        "df = df_anime.merge(df_stats, on='title')\n",
        "df.sample(5)"
      ]
    },
    {
      "cell_type": "markdown",
      "metadata": {
        "id": "NVskluTWyrA0"
      },
      "source": [
        "1. Lista los animes que tienen una cantidad de episodios mayor o igual a 1000."
      ]
    },
    {
      "cell_type": "code",
      "execution_count": 10,
      "metadata": {
        "id": "9u0I_Ip3zT0B"
      },
      "outputs": [
        {
          "data": {
            "text/html": [
              "<div>\n",
              "<style scoped>\n",
              "    .dataframe tbody tr th:only-of-type {\n",
              "        vertical-align: middle;\n",
              "    }\n",
              "\n",
              "    .dataframe tbody tr th {\n",
              "        vertical-align: top;\n",
              "    }\n",
              "\n",
              "    .dataframe thead th {\n",
              "        text-align: right;\n",
              "    }\n",
              "</style>\n",
              "<table border=\"1\" class=\"dataframe\">\n",
              "  <thead>\n",
              "    <tr style=\"text-align: right;\">\n",
              "      <th></th>\n",
              "      <th>title</th>\n",
              "      <th>type</th>\n",
              "      <th>source</th>\n",
              "      <th>episodes</th>\n",
              "      <th>airing</th>\n",
              "      <th>studio</th>\n",
              "      <th>score</th>\n",
              "      <th>members</th>\n",
              "      <th>favorites</th>\n",
              "    </tr>\n",
              "  </thead>\n",
              "  <tbody>\n",
              "    <tr>\n",
              "      <th>3566</th>\n",
              "      <td>Sekai Monoshiri Ryoko</td>\n",
              "      <td>TV</td>\n",
              "      <td>Unknown</td>\n",
              "      <td>1006</td>\n",
              "      <td>False</td>\n",
              "      <td>NaN</td>\n",
              "      <td>6.09</td>\n",
              "      <td>244</td>\n",
              "      <td>0</td>\n",
              "    </tr>\n",
              "    <tr>\n",
              "      <th>3815</th>\n",
              "      <td>Kirin Monoshiri Yakata</td>\n",
              "      <td>TV</td>\n",
              "      <td>Unknown</td>\n",
              "      <td>1565</td>\n",
              "      <td>False</td>\n",
              "      <td>NaN</td>\n",
              "      <td>5.98</td>\n",
              "      <td>198</td>\n",
              "      <td>1</td>\n",
              "    </tr>\n",
              "    <tr>\n",
              "      <th>3816</th>\n",
              "      <td>Manga Nippon Mukashibanashi (1976)</td>\n",
              "      <td>TV</td>\n",
              "      <td>Unknown</td>\n",
              "      <td>1471</td>\n",
              "      <td>False</td>\n",
              "      <td>Group TAC</td>\n",
              "      <td>6.37</td>\n",
              "      <td>619</td>\n",
              "      <td>2</td>\n",
              "    </tr>\n",
              "    <tr>\n",
              "      <th>6231</th>\n",
              "      <td>Monoshiri Daigaku: Ashita no Calendar</td>\n",
              "      <td>TV</td>\n",
              "      <td>Original</td>\n",
              "      <td>1274</td>\n",
              "      <td>False</td>\n",
              "      <td>NaN</td>\n",
              "      <td>6.42</td>\n",
              "      <td>211</td>\n",
              "      <td>0</td>\n",
              "    </tr>\n",
              "    <tr>\n",
              "      <th>7765</th>\n",
              "      <td>Hoka Hoka Kazoku</td>\n",
              "      <td>TV</td>\n",
              "      <td>Unknown</td>\n",
              "      <td>1428</td>\n",
              "      <td>False</td>\n",
              "      <td>Eiken</td>\n",
              "      <td>5.93</td>\n",
              "      <td>295</td>\n",
              "      <td>0</td>\n",
              "    </tr>\n",
              "    <tr>\n",
              "      <th>11217</th>\n",
              "      <td>Doraemon (1979)</td>\n",
              "      <td>TV</td>\n",
              "      <td>Manga</td>\n",
              "      <td>1787</td>\n",
              "      <td>False</td>\n",
              "      <td>Shin-Ei Animation</td>\n",
              "      <td>7.73</td>\n",
              "      <td>20129</td>\n",
              "      <td>219</td>\n",
              "    </tr>\n",
              "    <tr>\n",
              "      <th>11629</th>\n",
              "      <td>Oyako Club</td>\n",
              "      <td>TV</td>\n",
              "      <td>Original</td>\n",
              "      <td>1818</td>\n",
              "      <td>False</td>\n",
              "      <td>Eiken</td>\n",
              "      <td>5.96</td>\n",
              "      <td>324</td>\n",
              "      <td>0</td>\n",
              "    </tr>\n",
              "    <tr>\n",
              "      <th>13573</th>\n",
              "      <td>Kirin Ashita no Calendar</td>\n",
              "      <td>TV</td>\n",
              "      <td>Unknown</td>\n",
              "      <td>1306</td>\n",
              "      <td>False</td>\n",
              "      <td>NaN</td>\n",
              "      <td>6.05</td>\n",
              "      <td>146</td>\n",
              "      <td>0</td>\n",
              "    </tr>\n",
              "  </tbody>\n",
              "</table>\n",
              "</div>"
            ],
            "text/plain": [
              "                                       title type    source  episodes  airing  \\\n",
              "3566                   Sekai Monoshiri Ryoko   TV   Unknown      1006   False   \n",
              "3815                  Kirin Monoshiri Yakata   TV   Unknown      1565   False   \n",
              "3816      Manga Nippon Mukashibanashi (1976)   TV   Unknown      1471   False   \n",
              "6231   Monoshiri Daigaku: Ashita no Calendar   TV  Original      1274   False   \n",
              "7765                        Hoka Hoka Kazoku   TV   Unknown      1428   False   \n",
              "11217                        Doraemon (1979)   TV     Manga      1787   False   \n",
              "11629                             Oyako Club   TV  Original      1818   False   \n",
              "13573               Kirin Ashita no Calendar   TV   Unknown      1306   False   \n",
              "\n",
              "                  studio  score  members  favorites  \n",
              "3566                 NaN   6.09      244          0  \n",
              "3815                 NaN   5.98      198          1  \n",
              "3816           Group TAC   6.37      619          2  \n",
              "6231                 NaN   6.42      211          0  \n",
              "7765               Eiken   5.93      295          0  \n",
              "11217  Shin-Ei Animation   7.73    20129        219  \n",
              "11629              Eiken   5.96      324          0  \n",
              "13573                NaN   6.05      146          0  "
            ]
          },
          "execution_count": 10,
          "metadata": {},
          "output_type": "execute_result"
        }
      ],
      "source": [
        "df[df[\"episodes\"] >= 1000]"
      ]
    },
    {
      "cell_type": "markdown",
      "metadata": {},
      "source": [
        "R: Los titulos de los animes con más de 1.000 episodios se encuentran en la tabla previamente proyectada."
      ]
    },
    {
      "cell_type": "markdown",
      "metadata": {
        "id": "VfecebgFzUNT"
      },
      "source": [
        "2. Encuentra los 5 animes con mas favoritos según el dataset ¿Te hace sentido que estos sean los animes con mas favoritos?\n"
      ]
    },
    {
      "cell_type": "code",
      "execution_count": 37,
      "metadata": {
        "id": "WAtBCer6zXDV"
      },
      "outputs": [
        {
          "data": {
            "text/html": [
              "<div>\n",
              "<style scoped>\n",
              "    .dataframe tbody tr th:only-of-type {\n",
              "        vertical-align: middle;\n",
              "    }\n",
              "\n",
              "    .dataframe tbody tr th {\n",
              "        vertical-align: top;\n",
              "    }\n",
              "\n",
              "    .dataframe thead th {\n",
              "        text-align: right;\n",
              "    }\n",
              "</style>\n",
              "<table border=\"1\" class=\"dataframe\">\n",
              "  <thead>\n",
              "    <tr style=\"text-align: right;\">\n",
              "      <th></th>\n",
              "      <th>title</th>\n",
              "      <th>type</th>\n",
              "      <th>source</th>\n",
              "      <th>episodes</th>\n",
              "      <th>airing</th>\n",
              "      <th>studio</th>\n",
              "      <th>score</th>\n",
              "      <th>members</th>\n",
              "      <th>favorites</th>\n",
              "    </tr>\n",
              "  </thead>\n",
              "  <tbody>\n",
              "    <tr>\n",
              "      <th>2555</th>\n",
              "      <td>Fullmetal Alchemist: Brotherhood</td>\n",
              "      <td>TV</td>\n",
              "      <td>Manga</td>\n",
              "      <td>64</td>\n",
              "      <td>False</td>\n",
              "      <td>Bones</td>\n",
              "      <td>9.25</td>\n",
              "      <td>1199091</td>\n",
              "      <td>106895</td>\n",
              "    </tr>\n",
              "    <tr>\n",
              "      <th>3000</th>\n",
              "      <td>Steins;Gate</td>\n",
              "      <td>TV</td>\n",
              "      <td>Visual novel</td>\n",
              "      <td>24</td>\n",
              "      <td>False</td>\n",
              "      <td>White Fox</td>\n",
              "      <td>9.14</td>\n",
              "      <td>1010330</td>\n",
              "      <td>92423</td>\n",
              "    </tr>\n",
              "    <tr>\n",
              "      <th>7914</th>\n",
              "      <td>Death Note</td>\n",
              "      <td>TV</td>\n",
              "      <td>Manga</td>\n",
              "      <td>37</td>\n",
              "      <td>False</td>\n",
              "      <td>Madhouse</td>\n",
              "      <td>8.67</td>\n",
              "      <td>1456378</td>\n",
              "      <td>88696</td>\n",
              "    </tr>\n",
              "    <tr>\n",
              "      <th>34</th>\n",
              "      <td>One Piece</td>\n",
              "      <td>TV</td>\n",
              "      <td>Manga</td>\n",
              "      <td>0</td>\n",
              "      <td>True</td>\n",
              "      <td>Toei Animation</td>\n",
              "      <td>8.54</td>\n",
              "      <td>720133</td>\n",
              "      <td>69760</td>\n",
              "    </tr>\n",
              "    <tr>\n",
              "      <th>418</th>\n",
              "      <td>Hunter x Hunter (2011)</td>\n",
              "      <td>TV</td>\n",
              "      <td>Manga</td>\n",
              "      <td>148</td>\n",
              "      <td>False</td>\n",
              "      <td>Madhouse</td>\n",
              "      <td>9.11</td>\n",
              "      <td>720920</td>\n",
              "      <td>64375</td>\n",
              "    </tr>\n",
              "  </tbody>\n",
              "</table>\n",
              "</div>"
            ],
            "text/plain": [
              "                                 title type        source  episodes  airing  \\\n",
              "2555  Fullmetal Alchemist: Brotherhood   TV         Manga        64   False   \n",
              "3000                       Steins;Gate   TV  Visual novel        24   False   \n",
              "7914                        Death Note   TV         Manga        37   False   \n",
              "34                           One Piece   TV         Manga         0    True   \n",
              "418             Hunter x Hunter (2011)   TV         Manga       148   False   \n",
              "\n",
              "              studio  score  members  favorites  \n",
              "2555           Bones   9.25  1199091     106895  \n",
              "3000       White Fox   9.14  1010330      92423  \n",
              "7914        Madhouse   8.67  1456378      88696  \n",
              "34    Toei Animation   8.54   720133      69760  \n",
              "418         Madhouse   9.11   720920      64375  "
            ]
          },
          "execution_count": 37,
          "metadata": {},
          "output_type": "execute_result"
        }
      ],
      "source": [
        "df.sort_values(by=\"favorites\", ascending=False).head()"
      ]
    },
    {
      "cell_type": "markdown",
      "metadata": {},
      "source": [
        "R: Si, ya que se encuentran ordenados de forma descendiente por la cantidad de favoritos"
      ]
    },
    {
      "cell_type": "markdown",
      "metadata": {
        "id": "reoFwP6RzZak"
      },
      "source": [
        "3.  Lista todos los studios (sin repetirse y sin incluir valores nulos) que tienen animes en entre los 20 con mejor score."
      ]
    },
    {
      "cell_type": "code",
      "execution_count": 11,
      "metadata": {
        "id": "ZU3fiC7GzZDy"
      },
      "outputs": [
        {
          "data": {
            "text/plain": [
              "14405      Collaboration Works\n",
              "2555                     Bones\n",
              "1028          CoMix Wave Films\n",
              "6178                 White Fox\n",
              "1252     Bandai Namco Pictures\n",
              "12726                  Artland\n",
              "418                   Madhouse\n",
              "8993                   Sunrise\n",
              "1307                     Shaft\n",
              "6573           Kyoto Animation\n",
              "Name: studio, dtype: object"
            ]
          },
          "execution_count": 11,
          "metadata": {},
          "output_type": "execute_result"
        }
      ],
      "source": [
        "# Top 20\n",
        "df_score = df.sort_values(by=\"score\", ascending=False).head(20)\n",
        "# Drop duplicates and nulls\n",
        "df_score[\"studio\"].drop_duplicates().dropna()\n"
      ]
    },
    {
      "cell_type": "markdown",
      "metadata": {},
      "source": [
        "R: En la tabla mostrada anteriormente se tienen los nombres de los estudios, filtrados por duplicados y nulos,  pertenecientes al top 20 de acuerdo a su score"
      ]
    },
    {
      "cell_type": "markdown",
      "metadata": {
        "id": "n45zk1YVzYNx"
      },
      "source": [
        "4. ¿Hay algún studio que tenga más de un anime entre los 20 con mejor score? (sin repeticiones y si incluir nulos)\n"
      ]
    },
    {
      "cell_type": "code",
      "execution_count": 32,
      "metadata": {
        "id": "sy1OmkRBzn0K"
      },
      "outputs": [
        {
          "data": {
            "text/plain": [
              "3000    White Fox\n",
              "5784      Sunrise\n",
              "Name: studio, dtype: object"
            ]
          },
          "execution_count": 32,
          "metadata": {},
          "output_type": "execute_result"
        }
      ],
      "source": [
        "# Top 20\n",
        "df_20 = df.sort_values(by=\"score\", ascending=False).head(20)\n",
        "# drop studio nulls\n",
        "df_nan = df_20[\"studio\"].dropna()\n",
        "# Duplicated\n",
        "df_dup = df_nan.duplicated()\n",
        "# Show duplicated\n",
        "df_nan[df_dup].drop_duplicates()\n"
      ]
    },
    {
      "cell_type": "markdown",
      "metadata": {},
      "source": [
        "R: En la tabla mostrada anteriormente se tienen los nombres de los estudios, filtrados por duplicados y nulos,  pertenecientes al top 20 de acuerdo a su score que tienen más de un anime dentro del top."
      ]
    }
  ],
  "metadata": {
    "colab": {
      "provenance": []
    },
    "kernelspec": {
      "display_name": "Python 3",
      "name": "python3"
    },
    "language_info": {
      "codemirror_mode": {
        "name": "ipython",
        "version": 3
      },
      "file_extension": ".py",
      "mimetype": "text/x-python",
      "name": "python",
      "nbconvert_exporter": "python",
      "pygments_lexer": "ipython3",
      "version": "3.11.8"
    }
  },
  "nbformat": 4,
  "nbformat_minor": 0
}
